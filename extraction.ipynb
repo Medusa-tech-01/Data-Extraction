{
 "cells": [
  {
   "cell_type": "code",
   "execution_count": 1,
   "metadata": {},
   "outputs": [],
   "source": [
    "import requests\n",
    "import csv"
   ]
  },
  {
   "cell_type": "code",
   "execution_count": 2,
   "metadata": {},
   "outputs": [],
   "source": [
    "API_KEY = 'XXXXX'\n",
    "url = f'https://api.weatherbit.io/v2.0/history/subhourly?lat=35.775&city=Syracuse,NY&start_date=2024-04-09&end_date=2024-04-10&tz=local&key={API_KEY}'"
   ]
  },
  {
   "cell_type": "code",
   "execution_count": 3,
   "metadata": {},
   "outputs": [],
   "source": [
    "response = requests.get(url)"
   ]
  },
  {
   "cell_type": "markdown",
   "metadata": {},
   "source": [
    "Using the csv library"
   ]
  },
  {
   "cell_type": "code",
   "execution_count": 4,
   "metadata": {},
   "outputs": [
    {
     "name": "stdout",
     "output_type": "stream",
     "text": [
      "Data saved to weather_data_subhourly_syracuse.csv\n"
     ]
    }
   ],
   "source": [
    "if response.status_code == 200:\n",
    "    data = response.json()['data']  #This line extracts the JSON data from the API response and assigns it to the data variable. It assumes that the JSON response has a key named 'data' containing a list of dictionaries, where each dictionary represents a row of data.\n",
    "    filepath = 'weather_data_subhourly_syracuse.csv'\n",
    "    # write the data to a csv file \n",
    "    with open(filepath, mode='w', newline='') as file: #This line opens the CSV file in write mode. The newline='' argument is used to ensure that no extra newline characters are added between rows.\n",
    "        # This line creates a DictWriter object, which allows writing dictionaries as rows in the CSV file. It uses the keys of the first dictionary in the data list as the column headers (field names) for the CSV file.\n",
    "        writer = csv.DictWriter(file, fieldnames=data[0].keys())\n",
    "        writer.writeheader()  #This line writes the header row (column names) to the CSV file.\n",
    "        for item in data: #This line iterates over each dictionary (item) in the data list.\n",
    "            writer.writerow(item)  #This line writes each dictionary (item) as a row in the CSV file.\n",
    "    print(f'Data saved to {filepath}')\n",
    "else:\n",
    "    print(f'Failed to fetch data: {response.status_code}')"
   ]
  },
  {
   "cell_type": "markdown",
   "metadata": {},
   "source": [
    "Using the pandas dataframe"
   ]
  },
  {
   "cell_type": "code",
   "execution_count": 15,
   "metadata": {},
   "outputs": [
    {
     "name": "stdout",
     "output_type": "stream",
     "text": [
      "Data saved to weather_data_subhourly_syracuse.csv\n"
     ]
    }
   ],
   "source": [
    "import pandas as pd\n",
    "if response.status_code == 200:\n",
    "    data = response.json()['data']\n",
    "    df = pd.DataFrame(data)\n",
    "    filepath = 'weather_data_subhourly_syracuse.csv'\n",
    "    df.to_csv(filepath, index=False)\n",
    "    print(f'Data saved to {filepath}')\n",
    "else:\n",
    "    print(f'Failed to fetch data: {response.status_code}')"
   ]
  }
 ],
 "metadata": {
  "kernelspec": {
   "display_name": "Python 3",
   "language": "python",
   "name": "python3"
  },
  "language_info": {
   "codemirror_mode": {
    "name": "ipython",
    "version": 3
   },
   "file_extension": ".py",
   "mimetype": "text/x-python",
   "name": "python",
   "nbconvert_exporter": "python",
   "pygments_lexer": "ipython3",
   "version": "3.11.4"
  }
 },
 "nbformat": 4,
 "nbformat_minor": 2
}
